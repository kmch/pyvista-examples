{
 "cells": [
  {
   "cell_type": "code",
   "execution_count": null,
   "metadata": {},
   "outputs": [],
   "source": [
    "%matplotlib inline\n",
    "from pyvista import set_plot_theme\n",
    "set_plot_theme('document')\n",
    "pyvista._wrappers['vtkPolyData'] = pyvista.PolyData"
   ]
  },
  {
   "cell_type": "markdown",
   "metadata": {},
   "source": [
    "Volumetric Analysis {#volumetric_example}\n",
    "===================\n",
    "\n",
    "Calculate mass properties such as the volume or area of datasets\n"
   ]
  },
  {
   "cell_type": "code",
   "execution_count": null,
   "metadata": {},
   "outputs": [],
   "source": [
    "# sphinx_gallery_thumbnail_number = 4\n",
    "import numpy as np\n",
    "from pyvista import examples"
   ]
  },
  {
   "cell_type": "markdown",
   "metadata": {},
   "source": [
    "Computing mass properties such as the volume or area of datasets in\n",
    "PyVista is quite easy using the\n",
    "`pyvista.DataSetFilters.compute_cell_sizes`{.interpreted-text\n",
    "role=\"func\"} filter and the `pyvista.DataSet.volume`{.interpreted-text\n",
    "role=\"attr\"} property on all PyVista meshes.\n",
    "\n",
    "Let\\'s get started with a simple gridded mesh:\n"
   ]
  },
  {
   "cell_type": "code",
   "execution_count": null,
   "metadata": {},
   "outputs": [],
   "source": [
    "# Load a simple example mesh\n",
    "dataset = examples.load_uniform()\n",
    "dataset.set_active_scalars(\"Spatial Cell Data\")"
   ]
  },
  {
   "cell_type": "markdown",
   "metadata": {},
   "source": [
    "We can then calculate the volume of every cell in the array using the\n",
    "`.compute_cell_sizes` filter which will add arrays to the cell data of\n",
    "the mesh core the volume and area by default.\n"
   ]
  },
  {
   "cell_type": "code",
   "execution_count": null,
   "metadata": {},
   "outputs": [],
   "source": [
    "# Compute volumes and areas\n",
    "sized = dataset.compute_cell_sizes()\n",
    "\n",
    "# Grab volumes for all cells in the mesh\n",
    "cell_volumes = sized.cell_data[\"Volume\"]"
   ]
  },
  {
   "cell_type": "markdown",
   "metadata": {},
   "source": [
    "We can also compute the total volume of the mesh using the `.volume`\n",
    "property:\n"
   ]
  },
  {
   "cell_type": "code",
   "execution_count": null,
   "metadata": {},
   "outputs": [],
   "source": [
    "# Compute the total volume of the mesh\n",
    "volume = dataset.volume"
   ]
  },
  {
   "cell_type": "markdown",
   "metadata": {},
   "source": [
    "Okay awesome! But what if we have have a dataset that we threshold with\n",
    "two volumetric bodies left over in one dataset? Take this for example:\n"
   ]
  },
  {
   "cell_type": "code",
   "execution_count": null,
   "metadata": {},
   "outputs": [],
   "source": [
    "threshed = dataset.threshold_percent([0.15, 0.50], invert=True)\n",
    "threshed.plot(show_grid=True, cpos=[-2, 5, 3])"
   ]
  },
  {
   "cell_type": "markdown",
   "metadata": {},
   "source": [
    "We could then assign a classification array for the two bodies, compute\n",
    "the cell sizes, then extract the volumes of each body. Note that there\n",
    "is a simpler implementation of this below in\n",
    "`split_vol_ref`{.interpreted-text role=\"ref\"}.\n"
   ]
  },
  {
   "cell_type": "code",
   "execution_count": null,
   "metadata": {},
   "outputs": [],
   "source": [
    "# Create a classifying array to ID each body\n",
    "rng = dataset.get_data_range()\n",
    "cval = ((rng[1] - rng[0]) * 0.20) + rng[0]\n",
    "classifier = threshed.cell_data[\"Spatial Cell Data\"] > cval\n",
    "\n",
    "# Compute cell volumes\n",
    "sizes = threshed.compute_cell_sizes()\n",
    "volumes = sizes.cell_data[\"Volume\"]\n",
    "\n",
    "# Split volumes based on classifier and get volumes!\n",
    "idx = np.argwhere(classifier)\n",
    "hvol = np.sum(volumes[idx])\n",
    "idx = np.argwhere(~classifier)\n",
    "lvol = np.sum(volumes[idx])\n",
    "\n",
    "print(f\"Low grade volume: {lvol}\")\n",
    "print(f\"High grade volume: {hvol}\")\n",
    "print(f\"Original volume: {dataset.volume}\")"
   ]
  },
  {
   "cell_type": "markdown",
   "metadata": {},
   "source": [
    "Or better yet, you could simply extract the largest volume from your\n",
    "thresholded dataset by passing `largest=True` to the `connectivity`\n",
    "filter or by using `extract_largest` filter (both are equivalent).\n"
   ]
  },
  {
   "cell_type": "code",
   "execution_count": null,
   "metadata": {},
   "outputs": [],
   "source": [
    "# Grab the largest connected volume present\n",
    "largest = threshed.connectivity(largest=True)\n",
    "# or: largest = threshed.extract_largest()\n",
    "\n",
    "# Get volume as numeric value\n",
    "large_volume = largest.volume\n",
    "\n",
    "# Display it!\n",
    "largest.plot(show_grid=True, cpos=[-2, 5, 3])"
   ]
  },
  {
   "cell_type": "markdown",
   "metadata": {},
   "source": [
    "------------------------------------------------------------------------\n",
    "\n",
    "Splitting Volumes {#split_vol_ref}\n",
    "=================\n",
    "\n",
    "What if instead, we wanted to split all the different connected bodies /\n",
    "volumes in a dataset like the one above? We could use the\n",
    "`pyvista.DataSetFilters.split_bodies`{.interpreted-text role=\"func\"}\n",
    "filter to extract all the different connected volumes in a dataset into\n",
    "blocks in a `pyvista.MultiBlock`{.interpreted-text role=\"class\"}\n",
    "dataset. For example, lets split the thresholded volume in the example\n",
    "above:\n"
   ]
  },
  {
   "cell_type": "code",
   "execution_count": null,
   "metadata": {},
   "outputs": [],
   "source": [
    "# Load a simple example mesh\n",
    "dataset = examples.load_uniform()\n",
    "dataset.set_active_scalars(\"Spatial Cell Data\")\n",
    "threshed = dataset.threshold_percent([0.15, 0.50], invert=True)\n",
    "\n",
    "bodies = threshed.split_bodies()\n",
    "\n",
    "for i, body in enumerate(bodies):\n",
    "    print(f\"Body {i} volume: {body.volume:.3f}\")"
   ]
  },
  {
   "cell_type": "code",
   "execution_count": null,
   "metadata": {},
   "outputs": [],
   "source": [
    "bodies.plot(show_grid=True, multi_colors=True, cpos=[-2, 5, 3])"
   ]
  },
  {
   "cell_type": "markdown",
   "metadata": {},
   "source": [
    "------------------------------------------------------------------------\n",
    "\n",
    "A Real Dataset\n",
    "==============\n",
    "\n",
    "Here is a realistic training dataset of fluvial channels in the\n",
    "subsurface. This will threshold the channels from the dataset then\n",
    "separate each significantly large body and compute the volumes for each!\n",
    "\n",
    "Load up the data and threshold the channels:\n"
   ]
  },
  {
   "cell_type": "code",
   "execution_count": null,
   "metadata": {},
   "outputs": [],
   "source": [
    "data = examples.load_channels()\n",
    "channels = data.threshold([0.9, 1.1])"
   ]
  },
  {
   "cell_type": "markdown",
   "metadata": {},
   "source": [
    "Now extract all the different bodies and compute their volumes:\n"
   ]
  },
  {
   "cell_type": "code",
   "execution_count": null,
   "metadata": {},
   "outputs": [],
   "source": [
    "bodies = channels.split_bodies()\n",
    "# Now remove all bodies with a small volume\n",
    "for key in bodies.keys():\n",
    "    b = bodies[key]\n",
    "    vol = b.volume\n",
    "    if vol < 1000.0:\n",
    "        del bodies[key]\n",
    "        continue\n",
    "    # Now lets add a volume array to all blocks\n",
    "    b.cell_data[\"TOTAL VOLUME\"] = np.full(b.n_cells, vol)"
   ]
  },
  {
   "cell_type": "markdown",
   "metadata": {},
   "source": [
    "Print out the volumes for each body:\n"
   ]
  },
  {
   "cell_type": "code",
   "execution_count": null,
   "metadata": {},
   "outputs": [],
   "source": [
    "for i, body in enumerate(bodies):\n",
    "    print(f\"Body {i:02d} volume: {body.volume:.3f}\")"
   ]
  },
  {
   "cell_type": "markdown",
   "metadata": {},
   "source": [
    "And visualize all the different volumes:\n"
   ]
  },
  {
   "cell_type": "code",
   "execution_count": null,
   "metadata": {},
   "outputs": [],
   "source": [
    "bodies.plot(scalars=\"TOTAL VOLUME\", cmap=\"viridis\", show_grid=True)"
   ]
  }
 ],
 "metadata": {
  "kernelspec": {
   "display_name": "Python 3",
   "language": "python",
   "name": "python3"
  },
  "language_info": {
   "codemirror_mode": {
    "name": "ipython",
    "version": 3
   },
   "file_extension": ".py",
   "mimetype": "text/x-python",
   "name": "python",
   "nbconvert_exporter": "python",
   "pygments_lexer": "ipython3",
   "version": "3.5.2"
  },
  "toc": {
   "base_numbering": 1,
   "nav_menu": {},
   "number_sections": true,
   "sideBar": false,
   "skip_h1_title": false,
   "title_cell": "Table of Contents",
   "title_sidebar": "Contents",
   "toc_cell": false,
   "toc_position": {},
   "toc_section_display": true,
   "toc_window_display": false
  }
 },
 "nbformat": 4,
 "nbformat_minor": 1
}
