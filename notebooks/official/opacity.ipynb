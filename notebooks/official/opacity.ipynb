{
 "cells": [
  {
   "cell_type": "code",
   "execution_count": null,
   "metadata": {},
   "outputs": [],
   "source": [
    "%matplotlib inline\n",
    "from pyvista import set_plot_theme\n",
    "set_plot_theme('document')\n",
    "pyvista._wrappers['vtkPolyData'] = pyvista.PolyData"
   ]
  },
  {
   "cell_type": "markdown",
   "metadata": {},
   "source": [
    "Plot with Opacity {#plot_opacity_example}\n",
    "=================\n",
    "\n",
    "Plot a mesh\\'s scalar array with an opacity transfer function or opacity\n",
    "mapping based on a scalar array.\n"
   ]
  },
  {
   "cell_type": "code",
   "execution_count": null,
   "metadata": {},
   "outputs": [],
   "source": [
    "# sphinx_gallery_thumbnail_number = 2\n",
    "import pyvista as pv\n",
    "from pyvista import examples\n",
    "\n",
    "# Load St Helens DEM and warp the topography\n",
    "image = examples.download_st_helens()\n",
    "mesh = image.warp_by_scalar()"
   ]
  },
  {
   "cell_type": "markdown",
   "metadata": {},
   "source": [
    "Global Value\n",
    "============\n",
    "\n",
    "You can also apply a global opacity value to the mesh by passing a\n",
    "single float between 0 and 1 which would enable you to see objects\n",
    "behind the mesh:\n"
   ]
  },
  {
   "cell_type": "code",
   "execution_count": null,
   "metadata": {},
   "outputs": [],
   "source": [
    "p = pv.Plotter()\n",
    "p.add_mesh(image.contour(), line_width=5,)\n",
    "p.add_mesh(mesh, opacity=0.85, color=True)\n",
    "p.show()"
   ]
  },
  {
   "cell_type": "markdown",
   "metadata": {},
   "source": [
    "Note that you can specify `use_transparency=True` to convert opacities\n",
    "to transparencies in any of the following examples.\n"
   ]
  },
  {
   "cell_type": "markdown",
   "metadata": {},
   "source": [
    "Transfer Functions\n",
    "==================\n",
    "\n",
    "It\\'s possible to apply an opacity mapping to any scalar array plotted.\n",
    "You can specify either a single static value to make the mesh\n",
    "transparent on all cells, or use a transfer function where the scalar\n",
    "array plotted is mapped to the opacity. We have several predefined\n",
    "transfer functions.\n",
    "\n",
    "Opacity transfer functions are:\n",
    "\n",
    "-   `'linear'`: linearly vary (increase) opacity across the plotted\n",
    "    scalar range from low to high\n",
    "-   `'linear_r'`: linearly vary (increase) opacity across the plotted\n",
    "    scalar range from high to low\n",
    "-   `'geom'`: on a log scale, vary (increase) opacity across the plotted\n",
    "    scalar range from low to high\n",
    "-   `'geom_r'`: on a log scale, vary (increase) opacity across the\n",
    "    plotted scalar range from high to low\n",
    "-   `'sigmoid'`: vary (increase) opacity on a sigmoidal s-curve across\n",
    "    the plotted scalar range from low to high\n",
    "-   `'sigmoid_r'`: vary (increase) opacity on a sigmoidal s-curve across\n",
    "    the plotted scalar range from high to low\n"
   ]
  },
  {
   "cell_type": "code",
   "execution_count": null,
   "metadata": {},
   "outputs": [],
   "source": [
    "# Show the linear opacity transfer function\n",
    "mesh.plot(opacity=\"linear\")"
   ]
  },
  {
   "cell_type": "code",
   "execution_count": null,
   "metadata": {},
   "outputs": [],
   "source": [
    "# Show the sigmoid opacity transfer function\n",
    "mesh.plot(opacity=\"sigmoid\")"
   ]
  },
  {
   "cell_type": "markdown",
   "metadata": {},
   "source": [
    "It\\'s also possible to use your own transfer function that will be\n",
    "linearly mapped to the scalar array plotted. For example, we can create\n",
    "an opacity mapping as:\n"
   ]
  },
  {
   "cell_type": "code",
   "execution_count": null,
   "metadata": {},
   "outputs": [],
   "source": [
    "opacity = [0, 0.2, 0.9, 0.6, 0.3]"
   ]
  },
  {
   "cell_type": "markdown",
   "metadata": {},
   "source": [
    "When given a minimized opacity mapping like that above, PyVista\n",
    "interpolates it across a range of how many colors are shown when mapping\n",
    "the scalars. If `scipy` is available, then a quadratic interpolation is\n",
    "used -otherwise, a simple linear interpolation is used. Curious what\n",
    "that opacity transfer function looks like? You can fetch it:\n"
   ]
  },
  {
   "cell_type": "code",
   "execution_count": null,
   "metadata": {},
   "outputs": [],
   "source": [
    "# Have PyVista interpolate the transfer function\n",
    "tf = pv.opacity_transfer_function(opacity, 256).astype(float) / 255.\n",
    "\n",
    "import matplotlib.pyplot as plt\n",
    "plt.plot(tf)\n",
    "plt.title('My Interpolated Opacity Transfer Function')\n",
    "plt.ylabel('Opacity')\n",
    "plt.xlabel('Index along scalar mapping')\n",
    "plt.show()"
   ]
  },
  {
   "cell_type": "markdown",
   "metadata": {},
   "source": [
    "That opacity mapping will have an opacity of 0.0 at the minimum scalar\n",
    "range, a value or 0.9 at the middle of the scalar range, and a value of\n",
    "0.3 at the maximum of the scalar range:\n"
   ]
  },
  {
   "cell_type": "code",
   "execution_count": null,
   "metadata": {},
   "outputs": [],
   "source": [
    "mesh.plot(opacity=opacity)"
   ]
  },
  {
   "cell_type": "markdown",
   "metadata": {},
   "source": [
    "Opacity mapping is often useful when plotting DICOM images. For example,\n",
    "download the sample knee DICOM image:\n"
   ]
  },
  {
   "cell_type": "code",
   "execution_count": null,
   "metadata": {},
   "outputs": [],
   "source": [
    "knee = examples.download_knee()"
   ]
  },
  {
   "cell_type": "markdown",
   "metadata": {},
   "source": [
    "And here we inspect the DICOM image with a few different opacity\n",
    "mappings:\n"
   ]
  },
  {
   "cell_type": "code",
   "execution_count": null,
   "metadata": {},
   "outputs": [],
   "source": [
    "p = pv.Plotter(shape=(2, 2), border=False)\n",
    "\n",
    "p.add_mesh(knee, cmap=\"bone\", scalar_bar_args={'title': \"No Opacity\"})\n",
    "p.view_xy()\n",
    "\n",
    "p.subplot(0, 1)\n",
    "p.add_mesh(knee, cmap=\"bone\", opacity=\"linear\",\n",
    "           scalar_bar_args={'title': \"Linear Opacity\"})\n",
    "p.view_xy()\n",
    "\n",
    "p.subplot(1, 0)\n",
    "p.add_mesh(knee, cmap=\"bone\", opacity=\"sigmoid\",\n",
    "           scalar_bar_args={'title': \"Sigmoidal Opacity\"})\n",
    "p.view_xy()\n",
    "\n",
    "p.subplot(1, 1)\n",
    "p.add_mesh(knee, cmap=\"bone\", opacity=\"geom_r\",\n",
    "           scalar_bar_args={'title': \"Log Scale Opacity\"})\n",
    "p.view_xy()\n",
    "\n",
    "p.show()"
   ]
  },
  {
   "cell_type": "markdown",
   "metadata": {},
   "source": [
    "Opacity by Array\n",
    "================\n",
    "\n",
    "You can also use a scalar array associated with the mesh to give each\n",
    "cell its own opacity/transparency value derived from a scalar field. For\n",
    "example, an uncertainty array from a modelling result could be used to\n",
    "hide regions of a mesh that are uncertain and highlight regions that are\n",
    "well resolved.\n",
    "\n",
    "The following is a demonstration of plotting a mesh with colored values\n",
    "and using a second array to control the transparency of the mesh\n"
   ]
  },
  {
   "cell_type": "code",
   "execution_count": null,
   "metadata": {},
   "outputs": [],
   "source": [
    "model = examples.download_model_with_variance()\n",
    "contours = model.contour(10, scalars='Temperature')\n",
    "contours.array_names"
   ]
  },
  {
   "cell_type": "markdown",
   "metadata": {},
   "source": [
    "Make sure to flag `use_transparency=True` since we want areas of high\n",
    "variance to have high transparency.\n",
    "\n",
    "Also, since the opacity array must be between 0 and 1, we normalize the\n",
    "temperature variance array by the maximum value. That way high variance\n",
    "will be completely transparent.\n"
   ]
  },
  {
   "cell_type": "code",
   "execution_count": null,
   "metadata": {},
   "outputs": [],
   "source": [
    "contours['Temperature_var'] /= contours['Temperature_var'].max()\n",
    "\n",
    "p = pv.Plotter(shape=(1, 2))\n",
    "\n",
    "p.subplot(0, 0)\n",
    "p.add_text('Opacity by Array')\n",
    "p.add_mesh(contours.copy(), scalars='Temperature',\n",
    "           opacity='Temperature_var',\n",
    "           use_transparency=True,\n",
    "           cmap='bwr')\n",
    "\n",
    "p.subplot(0, 1)\n",
    "p.add_text('No Opacity')\n",
    "p.add_mesh(contours, scalars='Temperature',\n",
    "           cmap='bwr')\n",
    "p.show()"
   ]
  }
 ],
 "metadata": {
  "kernelspec": {
   "display_name": "Python 3",
   "language": "python",
   "name": "python3"
  },
  "language_info": {
   "codemirror_mode": {
    "name": "ipython",
    "version": 3
   },
   "file_extension": ".py",
   "mimetype": "text/x-python",
   "name": "python",
   "nbconvert_exporter": "python",
   "pygments_lexer": "ipython3",
   "version": "3.5.2"
  },
  "toc": {
   "base_numbering": 1,
   "nav_menu": {},
   "number_sections": true,
   "sideBar": false,
   "skip_h1_title": false,
   "title_cell": "Table of Contents",
   "title_sidebar": "Contents",
   "toc_cell": false,
   "toc_position": {},
   "toc_section_display": true,
   "toc_window_display": false
  }
 },
 "nbformat": 4,
 "nbformat_minor": 1
}
