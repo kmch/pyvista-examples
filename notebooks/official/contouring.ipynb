{
 "cells": [
  {
   "cell_type": "code",
   "execution_count": null,
   "metadata": {},
   "outputs": [],
   "source": [
    "%matplotlib inline\n",
    "from pyvista import set_plot_theme\n",
    "set_plot_theme('document')\n",
    "pyvista._wrappers['vtkPolyData'] = pyvista.PolyData"
   ]
  },
  {
   "cell_type": "markdown",
   "metadata": {},
   "source": [
    "Contouring {#contouring_example}\n",
    "==========\n",
    "\n",
    "Generate iso-lines or -surfaces for the scalars of a surface or volume.\n",
    "\n",
    "3D meshes can have 2D iso-surfaces of a scalar field extracted and 2D\n",
    "surface meshes can have 1D iso-lines of a scalar field extracted.\n"
   ]
  },
  {
   "cell_type": "code",
   "execution_count": null,
   "metadata": {},
   "outputs": [],
   "source": [
    "from pyvista import examples\n",
    "import pyvista as pv\n",
    "import numpy as np"
   ]
  },
  {
   "cell_type": "markdown",
   "metadata": {},
   "source": [
    "Iso-Lines\n",
    "=========\n",
    "\n",
    "Let\\'s extract 1D iso-lines of a scalar field from a 2D surface mesh.\n"
   ]
  },
  {
   "cell_type": "code",
   "execution_count": null,
   "metadata": {},
   "outputs": [],
   "source": [
    "mesh = examples.load_random_hills()\n",
    "\n",
    "contours = mesh.contour()\n",
    "\n",
    "p = pv.Plotter()\n",
    "p.add_mesh(mesh, opacity=0.85)\n",
    "p.add_mesh(contours, color=\"white\", line_width=5)\n",
    "p.show()"
   ]
  },
  {
   "cell_type": "markdown",
   "metadata": {},
   "source": [
    "Iso-Surfaces\n",
    "============\n",
    "\n",
    "Let\\'s extract 2D iso-surfaces of a scalar field from a 3D mesh.\n"
   ]
  },
  {
   "cell_type": "code",
   "execution_count": null,
   "metadata": {},
   "outputs": [],
   "source": [
    "mesh = examples.download_embryo()\n",
    "\n",
    "contours = mesh.contour(np.linspace(50, 200, 5))\n",
    "\n",
    "p = pv.Plotter()\n",
    "p.add_mesh(mesh.outline(), color=\"k\")\n",
    "p.add_mesh(contours, opacity=0.25, clim=[0, 200])\n",
    "p.camera_position = [(-130.99381142132086, 644.4868354828589, 163.80447435848686),\n",
    " (125.21748748157661, 123.94368717158413, 108.83283586619626),\n",
    " (0.2780372840777734, 0.03547871361794171, 0.9599148553609699)]\n",
    "p.show()"
   ]
  }
 ],
 "metadata": {
  "kernelspec": {
   "display_name": "Python 3",
   "language": "python",
   "name": "python3"
  },
  "language_info": {
   "codemirror_mode": {
    "name": "ipython",
    "version": 3
   },
   "file_extension": ".py",
   "mimetype": "text/x-python",
   "name": "python",
   "nbconvert_exporter": "python",
   "pygments_lexer": "ipython3",
   "version": "3.5.2"
  },
  "toc": {
   "base_numbering": 1,
   "nav_menu": {},
   "number_sections": true,
   "sideBar": false,
   "skip_h1_title": false,
   "title_cell": "Table of Contents",
   "title_sidebar": "Contents",
   "toc_cell": false,
   "toc_position": {},
   "toc_section_display": true,
   "toc_window_display": false
  }
 },
 "nbformat": 4,
 "nbformat_minor": 1
}
