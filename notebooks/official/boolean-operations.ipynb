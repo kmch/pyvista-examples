{
 "cells": [
  {
   "cell_type": "code",
   "execution_count": null,
   "metadata": {},
   "outputs": [],
   "source": [
    "%matplotlib inline\n",
    "from pyvista import set_plot_theme\n",
    "set_plot_theme('document')\n",
    "pyvista._wrappers['vtkPolyData'] = pyvista.PolyData"
   ]
  },
  {
   "cell_type": "markdown",
   "metadata": {},
   "source": [
    "Boolean Operations {#boolean_example}\n",
    "==================\n",
    "\n",
    "Perform boolean operations with closed (manifold) surfaces.\n",
    "\n",
    "Boolean/topological operations (intersect, union, difference) methods\n",
    "are implemented for `pyvista.PolyData`{.interpreted-text role=\"class\"}\n",
    "mesh types only and are accessible directly from any\n",
    "`pyvista.PolyData`{.interpreted-text role=\"class\"} mesh. Check out\n",
    "`pyvista.PolyDataFilters`{.interpreted-text role=\"class\"} and take a\n",
    "look at the following filters:\n",
    "\n",
    "-   `pyvista.PolyDataFilters.boolean_difference`{.interpreted-text\n",
    "    role=\"func\"}\n",
    "-   `pyvista.PolyDataFilters.boolean_union`{.interpreted-text\n",
    "    role=\"func\"}\n",
    "-   `pyvista.PolyDataFilters.boolean_intersection`{.interpreted-text\n",
    "    role=\"func\"}\n",
    "\n",
    "Essentially, boolean union, difference, and intersection are all the\n",
    "same operation. Just different parts of the objects are kept at the end.\n",
    "\n",
    "The `-` operator can be used between any two\n",
    "`pyvista.PolyData`{.interpreted-text role=\"class\"} meshes in PyVista to\n",
    "cut the first mesh by the second. These meshes must be all triangle\n",
    "meshes, which you can check with\n",
    "`pyvista.PolyData.is_all_triangles`{.interpreted-text role=\"attr\"}.\n",
    "\n",
    "::: {.note}\n",
    "::: {.admonition-title}\n",
    "Note\n",
    ":::\n",
    "\n",
    "For merging, the `+` operator can be used between any two meshes in\n",
    "PyVista which simply calls the `.merge()` filter to combine any two\n",
    "meshes. This is different from `boolean_union` as it simply superimposes\n",
    "the two meshes without performing additional calculations on the result.\n",
    ":::\n",
    "\n",
    "::: {.warning}\n",
    "::: {.admonition-title}\n",
    "Warning\n",
    ":::\n",
    "\n",
    "If your boolean operations don\\'t react the way you think they should\n",
    "(i.e. the wrong parts disappear), one of your meshes probably has its\n",
    "normals pointing inward. Use\n",
    "`pyvista.PolyDataFilters.plot_normals`{.interpreted-text role=\"func\"} to\n",
    "visualize the normals.\n",
    ":::\n"
   ]
  },
  {
   "cell_type": "code",
   "execution_count": null,
   "metadata": {},
   "outputs": [],
   "source": [
    "# sphinx_gallery_thumbnail_number = 6\n",
    "import pyvista as pv\n",
    "import numpy as np\n",
    "\n",
    "sphere_a = pv.Sphere()\n",
    "sphere_b = pv.Sphere(center=(0.5, 0, 0))"
   ]
  },
  {
   "cell_type": "markdown",
   "metadata": {},
   "source": [
    "Boolean Union\n",
    "=============\n",
    "\n",
    "Perform a boolean union of `A` and `B` using the\n",
    "`pyvista.PolyDataFilters.boolean_union`{.interpreted-text role=\"func\"}\n",
    "filter.\n",
    "\n",
    "The union of two manifold meshes `A` and `B` is the mesh which is in\n",
    "`A`, in `B`, or in both `A` and `B`.\n",
    "\n",
    "Order of operands does not matter for boolean union (the operation is\n",
    "commutative).\n"
   ]
  },
  {
   "cell_type": "code",
   "execution_count": null,
   "metadata": {},
   "outputs": [],
   "source": [
    "result = sphere_a.boolean_union(sphere_b)\n",
    "pl = pv.Plotter()\n",
    "_ = pl.add_mesh(sphere_a, color='r', style='wireframe', line_width=3)\n",
    "_ = pl.add_mesh(sphere_b, color='b', style='wireframe', line_width=3)\n",
    "_ = pl.add_mesh(result, color='tan')\n",
    "pl.camera_position = 'xz'\n",
    "pl.show()"
   ]
  },
  {
   "cell_type": "markdown",
   "metadata": {},
   "source": [
    "Boolean Difference\n",
    "==================\n",
    "\n",
    "Perform a boolean difference of `A` and `B` using the\n",
    "`pyvista.PolyDataFilters.boolean_difference`{.interpreted-text\n",
    "role=\"func\"} filter or the `-` operator since both meshes are\n",
    "`pyvista.PolyData`{.interpreted-text role=\"class\"}.\n",
    "\n",
    "The difference of two manifold meshes `A` and `B` is the volume of the\n",
    "mesh in `A` not belonging to `B`.\n",
    "\n",
    "Order of operands matters for boolean difference.\n"
   ]
  },
  {
   "cell_type": "code",
   "execution_count": null,
   "metadata": {},
   "outputs": [],
   "source": [
    "result = sphere_a.boolean_difference(sphere_b)\n",
    "pl = pv.Plotter()\n",
    "_ = pl.add_mesh(sphere_a, color='r', style='wireframe', line_width=3)\n",
    "_ = pl.add_mesh(sphere_b, color='b', style='wireframe', line_width=3)\n",
    "_ = pl.add_mesh(result, color='tan')\n",
    "pl.camera_position = 'xz'\n",
    "pl.show()"
   ]
  },
  {
   "cell_type": "markdown",
   "metadata": {},
   "source": [
    "Boolean Intersection\n",
    "====================\n",
    "\n",
    "Perform a boolean intersection of `A` and `B` using the\n",
    "`pyvista.PolyDataFilters.boolean_intersection`{.interpreted-text\n",
    "role=\"func\"} filter.\n",
    "\n",
    "The intersection of two manifold meshes `A` and `B` is the mesh which is\n",
    "the volume of `A` that is also in `B`.\n",
    "\n",
    "Order of operands does not matter for boolean intersection (the\n",
    "operation is commutative).\n"
   ]
  },
  {
   "cell_type": "code",
   "execution_count": null,
   "metadata": {},
   "outputs": [],
   "source": [
    "result = sphere_a.boolean_intersection(sphere_b)\n",
    "pl = pv.Plotter()\n",
    "_ = pl.add_mesh(sphere_a, color='r', style='wireframe', line_width=3)\n",
    "_ = pl.add_mesh(sphere_b, color='b', style='wireframe', line_width=3)\n",
    "_ = pl.add_mesh(result, color='tan')\n",
    "pl.camera_position = 'xz'\n",
    "pl.show()"
   ]
  },
  {
   "cell_type": "markdown",
   "metadata": {},
   "source": [
    "Behavior due to flipped normals\n",
    "===============================\n",
    "\n",
    "Note that these boolean filters behave differently depending on the\n",
    "orientation of the normals.\n",
    "\n",
    "Boolean difference with both cube and sphere normals pointed outward.\n",
    "This is the \\\"normal\\\" behavior.\n"
   ]
  },
  {
   "cell_type": "code",
   "execution_count": null,
   "metadata": {},
   "outputs": [],
   "source": [
    "cube = pv.Cube().clean().triangulate().subdivide(3).clean()\n",
    "sphere = pv.Sphere(radius=0.6)\n",
    "result = cube.boolean_difference(sphere)\n",
    "result.plot(color='tan')"
   ]
  },
  {
   "cell_type": "markdown",
   "metadata": {},
   "source": [
    "Boolean difference with cube normals outward, sphere inward.\n"
   ]
  },
  {
   "cell_type": "code",
   "execution_count": null,
   "metadata": {},
   "outputs": [],
   "source": [
    "cube = pv.Cube().triangulate().subdivide(3).clean()\n",
    "sphere = pv.Sphere(radius=0.6)\n",
    "sphere.flip_normals()\n",
    "result = cube.boolean_difference(sphere)\n",
    "result.plot(color='tan')"
   ]
  },
  {
   "cell_type": "markdown",
   "metadata": {},
   "source": [
    "Boolean difference with cube normals inward, sphere outward.\n"
   ]
  },
  {
   "cell_type": "code",
   "execution_count": null,
   "metadata": {},
   "outputs": [],
   "source": [
    "cube = pv.Cube().triangulate().subdivide(3).clean()\n",
    "cube.flip_normals()\n",
    "sphere = pv.Sphere(radius=0.6)\n",
    "result = cube.boolean_difference(sphere)\n",
    "result.plot(color='tan')"
   ]
  },
  {
   "cell_type": "markdown",
   "metadata": {},
   "source": [
    "Both cube and sphere normals inward.\n"
   ]
  },
  {
   "cell_type": "code",
   "execution_count": null,
   "metadata": {},
   "outputs": [],
   "source": [
    "cube = pv.Cube().triangulate().subdivide(3).clean()\n",
    "cube.flip_normals()\n",
    "sphere = pv.Sphere(radius=0.6)\n",
    "sphere.flip_normals()\n",
    "result = cube.boolean_difference(sphere)\n",
    "result.plot(color='tan')"
   ]
  }
 ],
 "metadata": {
  "kernelspec": {
   "display_name": "Python 3",
   "language": "python",
   "name": "python3"
  },
  "language_info": {
   "codemirror_mode": {
    "name": "ipython",
    "version": 3
   },
   "file_extension": ".py",
   "mimetype": "text/x-python",
   "name": "python",
   "nbconvert_exporter": "python",
   "pygments_lexer": "ipython3",
   "version": "3.5.2"
  },
  "toc": {
   "base_numbering": 1,
   "nav_menu": {},
   "number_sections": true,
   "sideBar": false,
   "skip_h1_title": false,
   "title_cell": "Table of Contents",
   "title_sidebar": "Contents",
   "toc_cell": false,
   "toc_position": {},
   "toc_section_display": true,
   "toc_window_display": false
  }
 },
 "nbformat": 4,
 "nbformat_minor": 1
}
