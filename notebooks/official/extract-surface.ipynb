{
 "cells": [
  {
   "cell_type": "code",
   "execution_count": null,
   "metadata": {},
   "outputs": [],
   "source": [
    "%matplotlib inline\n",
    "from pyvista import set_plot_theme\n",
    "set_plot_theme('document')\n",
    "pyvista._wrappers['vtkPolyData'] = pyvista.PolyData"
   ]
  },
  {
   "cell_type": "markdown",
   "metadata": {},
   "source": [
    "Extract Surface {#extract_surface_example}\n",
    "===============\n",
    "\n",
    "You can extract the surface of nearly any object within `pyvista` using\n",
    "the `extract_surface` filter.\n"
   ]
  },
  {
   "cell_type": "code",
   "execution_count": null,
   "metadata": {},
   "outputs": [],
   "source": [
    "# sphinx_gallery_thumbnail_number = 2\n",
    "\n",
    "import numpy as np\n",
    "import pyvista as pv\n",
    "from vtk import VTK_QUADRATIC_HEXAHEDRON"
   ]
  },
  {
   "cell_type": "markdown",
   "metadata": {},
   "source": [
    "Create a quadratic cell and extract its surface\n",
    "===============================================\n",
    "\n",
    "Here we create a single quadratic hexahedral cell and then extract its\n",
    "surface to demonstrate how to extract the surface of an\n",
    "UnstructuredGrid.\n"
   ]
  },
  {
   "cell_type": "code",
   "execution_count": null,
   "metadata": {},
   "outputs": [],
   "source": [
    "lin_pts = np.array([[-1, -1, -1],  # point 0\n",
    "                    [ 1, -1, -1],  # point 1\n",
    "                    [ 1,  1, -1],  # point 2\n",
    "                    [-1,  1, -1],  # point 3\n",
    "                    [-1, -1,  1],  # point 4\n",
    "                    [ 1, -1,  1],  # point 5\n",
    "                    [ 1,  1,  1],  # point 6\n",
    "                    [-1,  1,  1]], np.double)  # point 7\n",
    "\n",
    "# these are the \"midside\" points of a quad cell.  See the definition of a\n",
    "# vtkQuadraticHexahedron at:\n",
    "# https://vtk.org/doc/nightly/html/classvtkQuadraticHexahedron.html\n",
    "quad_pts = np.array([\n",
    "    (lin_pts[1] + lin_pts[0])/2,  # between point 0 and 1\n",
    "    (lin_pts[1] + lin_pts[2])/2,  # between point 1 and 2\n",
    "    (lin_pts[2] + lin_pts[3])/2,  # and so on...\n",
    "    (lin_pts[3] + lin_pts[0])/2,\n",
    "    (lin_pts[4] + lin_pts[5])/2,\n",
    "    (lin_pts[5] + lin_pts[6])/2,\n",
    "    (lin_pts[6] + lin_pts[7])/2,\n",
    "    (lin_pts[7] + lin_pts[4])/2,\n",
    "    (lin_pts[0] + lin_pts[4])/2,\n",
    "    (lin_pts[1] + lin_pts[5])/2,\n",
    "    (lin_pts[2] + lin_pts[6])/2,\n",
    "    (lin_pts[3] + lin_pts[7])/2])\n",
    "\n",
    "# introduce a minor variation to the location of the mid-side points\n",
    "quad_pts += np.random.random(quad_pts.shape)*0.3\n",
    "pts = np.vstack((lin_pts, quad_pts))\n",
    "\n",
    "# create the grid\n",
    "\n",
    "# If you are using vtk>=9, you do not need the offset array\n",
    "offset = np.array([0])\n",
    "cells = np.hstack((20, np.arange(20))).astype(np.int64, copy=False)\n",
    "celltypes = np.array([VTK_QUADRATIC_HEXAHEDRON])\n",
    "grid = pv.UnstructuredGrid(offset, cells, celltypes, pts)\n",
    "\n",
    "# finally, extract the surface and plot it\n",
    "surf = grid.extract_surface()\n",
    "surf.plot(show_scalar_bar=False)"
   ]
  },
  {
   "cell_type": "markdown",
   "metadata": {},
   "source": [
    "Nonlinear Surface Subdivision\n",
    "=============================\n",
    "\n",
    "Should your UnstructuredGrid contain quadratic cells, you can generate a\n",
    "smooth surface based on the position of the \\\"mid-edge\\\" nodes. This\n",
    "allows the plotting of cells containing curvature. For additional\n",
    "reference, please see:\n",
    "<https://prod.sandia.gov/techlib-noauth/access-control.cgi/2004/041617.pdf>\n"
   ]
  },
  {
   "cell_type": "code",
   "execution_count": null,
   "metadata": {},
   "outputs": [],
   "source": [
    "surf_subdivided = grid.extract_surface(nonlinear_subdivision=5)\n",
    "surf_subdivided.plot(show_scalar_bar=False)"
   ]
  }
 ],
 "metadata": {
  "kernelspec": {
   "display_name": "Python 3",
   "language": "python",
   "name": "python3"
  },
  "language_info": {
   "codemirror_mode": {
    "name": "ipython",
    "version": 3
   },
   "file_extension": ".py",
   "mimetype": "text/x-python",
   "name": "python",
   "nbconvert_exporter": "python",
   "pygments_lexer": "ipython3",
   "version": "3.5.2"
  },
  "toc": {
   "base_numbering": 1,
   "nav_menu": {},
   "number_sections": true,
   "sideBar": false,
   "skip_h1_title": false,
   "title_cell": "Table of Contents",
   "title_sidebar": "Contents",
   "toc_cell": false,
   "toc_position": {},
   "toc_section_display": true,
   "toc_window_display": false
  }
 },
 "nbformat": 4,
 "nbformat_minor": 1
}
