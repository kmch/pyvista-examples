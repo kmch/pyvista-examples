{
 "cells": [
  {
   "cell_type": "code",
   "execution_count": null,
   "metadata": {},
   "outputs": [],
   "source": [
    "%matplotlib inline\n",
    "from pyvista import set_plot_theme\n",
    "set_plot_theme('document')\n",
    "pyvista._wrappers['vtkPolyData'] = pyvista.PolyData"
   ]
  },
  {
   "cell_type": "markdown",
   "metadata": {},
   "source": [
    "Create a GIF Movie {#gif_movie_example}\n",
    "==================\n",
    "\n",
    "Generate a moving gif from an active plotter\n"
   ]
  },
  {
   "cell_type": "code",
   "execution_count": 6,
   "metadata": {},
   "outputs": [],
   "source": [
    "import pyvista as pv\n",
    "import numpy as np\n",
    "\n",
    "x = np.arange(-10, 10, 0.25)\n",
    "y = np.arange(-10, 10, 0.25)\n",
    "x, y = np.meshgrid(x, y)\n",
    "r = np.sqrt(x ** 2 + y ** 2)\n",
    "z = np.sin(r)\n",
    "\n",
    "# Create and structured surface\n",
    "grid = pv.StructuredGrid(x, y, z)\n",
    "\n",
    "# Create a plotter object and set the scalars to the Z height\n",
    "plotter = pv.Plotter(notebook=False, off_screen=True)\n",
    "plotter.add_mesh(grid, scalars=z.ravel(), smooth_shading=True)\n",
    "\n",
    "# Open a gif\n",
    "plotter.open_gif(\"wave.gif\")\n",
    "\n",
    "pts = grid.points.copy()\n",
    "\n",
    "# Update Z and write a frame for each updated position\n",
    "nframe = 15\n",
    "for phase in np.linspace(0, 2 * np.pi, nframe + 1)[:nframe]:\n",
    "    z = np.sin(r + phase)\n",
    "    pts[:, -1] = z.ravel()\n",
    "    plotter.update_coordinates(pts, render=False)\n",
    "    plotter.update_scalars(z.ravel(), render=False)\n",
    "\n",
    "    # must update normals when smooth shading is enabled\n",
    "    plotter.mesh.compute_normals(cell_normals=False, inplace=True)\n",
    "    plotter.render()\n",
    "    plotter.write_frame()\n",
    "\n",
    "# Closes and finalizes movie\n",
    "plotter.close()"
   ]
  }
 ],
 "metadata": {
  "kernelspec": {
   "display_name": "pyvista",
   "language": "python",
   "name": "pyvista"
  },
  "language_info": {
   "codemirror_mode": {
    "name": "ipython",
    "version": 3
   },
   "file_extension": ".py",
   "mimetype": "text/x-python",
   "name": "python",
   "nbconvert_exporter": "python",
   "pygments_lexer": "ipython3",
   "version": "3.9.7"
  },
  "toc": {
   "base_numbering": 1,
   "nav_menu": {},
   "number_sections": true,
   "sideBar": false,
   "skip_h1_title": false,
   "title_cell": "Table of Contents",
   "title_sidebar": "Contents",
   "toc_cell": false,
   "toc_position": {},
   "toc_section_display": true,
   "toc_window_display": false
  }
 },
 "nbformat": 4,
 "nbformat_minor": 1
}
