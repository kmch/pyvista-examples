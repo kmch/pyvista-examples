{
 "cells": [
  {
   "cell_type": "code",
   "execution_count": null,
   "metadata": {},
   "outputs": [],
   "source": [
    "%matplotlib inline\n",
    "from pyvista import set_plot_theme\n",
    "set_plot_theme('document')\n",
    "pyvista._wrappers['vtkPolyData'] = pyvista.PolyData"
   ]
  },
  {
   "cell_type": "markdown",
   "metadata": {},
   "source": [
    "Orbiting {#orbiting_example}\n",
    "========\n",
    "\n",
    "Orbit around a scene.\n",
    "\n",
    "::: {.note}\n",
    "::: {.admonition-title}\n",
    "Note\n",
    ":::\n",
    "\n",
    "The quality of the movie will be better when using\n",
    "`p.open_movie('orbit.mp4')` instead of `p.open_gif('orbit.gif')`\n",
    ":::\n",
    "\n",
    "For orbiting to work you first have to show the scene and leave the\n",
    "plotter open with `.show(auto_close=False)`.\n"
   ]
  },
  {
   "cell_type": "code",
   "execution_count": null,
   "metadata": {},
   "outputs": [],
   "source": [
    "# sphinx_gallery_thumbnail_number = 2\n",
    "import pyvista as pv\n",
    "from pyvista import examples\n",
    "\n",
    "mesh = examples.download_st_helens().warp_by_scalar()"
   ]
  },
  {
   "cell_type": "code",
   "execution_count": null,
   "metadata": {},
   "outputs": [],
   "source": [
    "p = pv.Plotter()\n",
    "p.add_mesh(mesh)\n",
    "p.show(auto_close=False)\n",
    "path = p.generate_orbital_path(n_points=36, shift=mesh.length)\n",
    "p.open_gif(\"orbit.gif\")\n",
    "p.orbit_on_path(path, write_frames=True)\n",
    "p.close()"
   ]
  },
  {
   "cell_type": "code",
   "execution_count": null,
   "metadata": {},
   "outputs": [],
   "source": [
    "p = pv.Plotter()\n",
    "p.add_mesh(mesh)\n",
    "p.show_grid()\n",
    "p.show(auto_close=False)\n",
    "viewup = [0.5, 0.5, 1]\n",
    "path = p.generate_orbital_path(factor=2.0, shift=10000, viewup=viewup, n_points=36)\n",
    "p.open_gif(\"orbit.gif\")\n",
    "p.orbit_on_path(path, write_frames=True, viewup=[0, 0, 1], step=0.05)\n",
    "p.close()"
   ]
  },
  {
   "cell_type": "code",
   "execution_count": null,
   "metadata": {},
   "outputs": [],
   "source": [
    "mesh = examples.download_dragon()\n",
    "viewup = [0, 1, 0]"
   ]
  },
  {
   "cell_type": "code",
   "execution_count": null,
   "metadata": {},
   "outputs": [],
   "source": [
    "p = pv.Plotter()\n",
    "p.add_mesh(mesh)\n",
    "p.show(auto_close=False)\n",
    "path = p.generate_orbital_path(factor=2.0, n_points=36, viewup=viewup, shift=0.2)\n",
    "p.open_gif(\"orbit.gif\")\n",
    "p.orbit_on_path(path, write_frames=True, viewup=viewup, step=0.05)\n",
    "p.close()"
   ]
  }
 ],
 "metadata": {
  "kernelspec": {
   "display_name": "Python 3",
   "language": "python",
   "name": "python3"
  },
  "language_info": {
   "codemirror_mode": {
    "name": "ipython",
    "version": 3
   },
   "file_extension": ".py",
   "mimetype": "text/x-python",
   "name": "python",
   "nbconvert_exporter": "python",
   "pygments_lexer": "ipython3",
   "version": "3.5.2"
  },
  "toc": {
   "base_numbering": 1,
   "nav_menu": {},
   "number_sections": true,
   "sideBar": false,
   "skip_h1_title": false,
   "title_cell": "Table of Contents",
   "title_sidebar": "Contents",
   "toc_cell": false,
   "toc_position": {},
   "toc_section_display": true,
   "toc_window_display": false
  }
 },
 "nbformat": 4,
 "nbformat_minor": 1
}
