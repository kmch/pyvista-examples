{
 "cells": [
  {
   "cell_type": "code",
   "execution_count": null,
   "metadata": {},
   "outputs": [],
   "source": [
    "%matplotlib inline\n",
    "from pyvista import set_plot_theme\n",
    "set_plot_theme('document')\n",
    "pyvista._wrappers['vtkPolyData'] = pyvista.PolyData"
   ]
  },
  {
   "cell_type": "markdown",
   "metadata": {},
   "source": [
    "Moving Isovalue {#moving_isovalue_example}\n",
    "===============\n",
    "\n",
    "Make an animation of an isovalue through a volumetric dataset\n"
   ]
  },
  {
   "cell_type": "code",
   "execution_count": null,
   "metadata": {},
   "outputs": [],
   "source": [
    "import pyvista as pv\n",
    "from pyvista import examples\n",
    "import numpy as np\n",
    "\n",
    "vol = examples.download_brain()\n",
    "vol"
   ]
  },
  {
   "cell_type": "markdown",
   "metadata": {},
   "source": [
    "Now lets make an array of all of the isovalues for which we want to\n",
    "show.\n"
   ]
  },
  {
   "cell_type": "code",
   "execution_count": null,
   "metadata": {},
   "outputs": [],
   "source": [
    "values = np.linspace(5, 150, num=25)"
   ]
  },
  {
   "cell_type": "markdown",
   "metadata": {},
   "source": [
    "Now let\\'s create an initial isosurface that we can plot and move\n"
   ]
  },
  {
   "cell_type": "code",
   "execution_count": null,
   "metadata": {},
   "outputs": [],
   "source": [
    "surface = vol.contour([values[0]],)"
   ]
  },
  {
   "cell_type": "markdown",
   "metadata": {},
   "source": [
    "Precompute the surfaces\n"
   ]
  },
  {
   "cell_type": "code",
   "execution_count": null,
   "metadata": {},
   "outputs": [],
   "source": [
    "surfaces = [vol.contour([v]) for v in values]"
   ]
  },
  {
   "cell_type": "markdown",
   "metadata": {},
   "source": [
    "Set a single surface as the one being plotted that can be overwritten\n"
   ]
  },
  {
   "cell_type": "code",
   "execution_count": null,
   "metadata": {},
   "outputs": [],
   "source": [
    "surface = surfaces[0].copy()"
   ]
  },
  {
   "cell_type": "code",
   "execution_count": null,
   "metadata": {},
   "outputs": [],
   "source": [
    "filename = \"isovalue.gif\"\n",
    "\n",
    "plotter = pv.Plotter()\n",
    "# Open a movie file\n",
    "plotter.open_gif(filename)\n",
    "plotter.enable_depth_peeling()\n",
    "\n",
    "# Add initial mesh\n",
    "plotter.add_mesh(surface, opacity=0.5, clim=vol.get_data_range())\n",
    "# Add outline for reference\n",
    "plotter.add_mesh(vol.outline_corners(), color='k')\n",
    "\n",
    "print('Orient the view, then press \"q\" to close window and produce movie')\n",
    "plotter.camera_position = [\n",
    "    (392.9783280407326, 556.4341372317185, 235.51220650196404),\n",
    "    (88.69563012828344, 119.06774369173661, 72.61750326143748),\n",
    "    (-0.19275936948097383, -0.2218876327549124, 0.9558293278131397)]\n",
    "\n",
    "# initial render and do NOT close\n",
    "plotter.show(auto_close=False)\n",
    "\n",
    "# Run through each frame\n",
    "for surf in surfaces:\n",
    "    surface.overwrite(surf)\n",
    "    plotter.write_frame()  # Write this frame\n",
    "# Run through backwards\n",
    "for surf in surfaces[::-1]:\n",
    "    surface.overwrite(surf)\n",
    "    plotter.write_frame()  # Write this frame\n",
    "\n",
    "# Be sure to close the plotter when finished\n",
    "plotter.close()"
   ]
  }
 ],
 "metadata": {
  "kernelspec": {
   "display_name": "Python 3",
   "language": "python",
   "name": "python3"
  },
  "language_info": {
   "codemirror_mode": {
    "name": "ipython",
    "version": 3
   },
   "file_extension": ".py",
   "mimetype": "text/x-python",
   "name": "python",
   "nbconvert_exporter": "python",
   "pygments_lexer": "ipython3",
   "version": "3.5.2"
  },
  "toc": {
   "base_numbering": 1,
   "nav_menu": {},
   "number_sections": true,
   "sideBar": false,
   "skip_h1_title": false,
   "title_cell": "Table of Contents",
   "title_sidebar": "Contents",
   "toc_cell": false,
   "toc_position": {},
   "toc_section_display": true,
   "toc_window_display": false
  }
 },
 "nbformat": 4,
 "nbformat_minor": 1
}
