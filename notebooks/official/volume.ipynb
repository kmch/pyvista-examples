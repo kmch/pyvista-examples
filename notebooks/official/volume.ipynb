{
 "cells": [
  {
   "cell_type": "code",
   "execution_count": null,
   "metadata": {},
   "outputs": [],
   "source": [
    "%matplotlib inline\n",
    "from pyvista import set_plot_theme\n",
    "set_plot_theme('document')\n",
    "pyvista._wrappers['vtkPolyData'] = pyvista.PolyData"
   ]
  },
  {
   "cell_type": "markdown",
   "metadata": {},
   "source": [
    "Volume Rendering {#volume_rendering_example}\n",
    "================\n",
    "\n",
    "Volume render uniform mesh types like\n",
    "`pyvista.UniformGrid`{.interpreted-text role=\"class\"} or 3D NumPy\n",
    "arrays.\n",
    "\n",
    "This also explores how to extract a volume of interest (VOI) from a\n",
    "`pyvista.UniformGrid`{.interpreted-text role=\"class\"} using the\n",
    "`pyvista.UniformGridFilters.extract_subset`{.interpreted-text\n",
    "role=\"func\"} filter.\n"
   ]
  },
  {
   "cell_type": "code",
   "execution_count": null,
   "metadata": {},
   "outputs": [],
   "source": [
    "# sphinx_gallery_thumbnail_number = 3\n",
    "import pyvista as pv\n",
    "from pyvista import examples\n",
    "\n",
    "# Download a volumetric dataset\n",
    "vol = examples.download_knee_full()\n",
    "vol"
   ]
  },
  {
   "cell_type": "markdown",
   "metadata": {},
   "source": [
    "Simple Volume Render\n",
    "====================\n"
   ]
  },
  {
   "cell_type": "code",
   "execution_count": null,
   "metadata": {},
   "outputs": [],
   "source": [
    "# A nice camera position\n",
    "cpos = [(-381.74, -46.02, 216.54), (74.8305, 89.2905, 100.0), (0.23, 0.072, 0.97)]\n",
    "\n",
    "vol.plot(volume=True, cmap=\"bone\", cpos=cpos)"
   ]
  },
  {
   "cell_type": "markdown",
   "metadata": {},
   "source": [
    "Opacity Mappings\n",
    "================\n",
    "\n",
    "Or use the `pyvista.BasePlotter.add_volume`{.interpreted-text\n",
    "role=\"func\"} method like below. Note that here we use a non-default\n",
    "opacity mapping to a sigmoid:\n"
   ]
  },
  {
   "cell_type": "code",
   "execution_count": null,
   "metadata": {},
   "outputs": [],
   "source": [
    "p = pv.Plotter()\n",
    "p.add_volume(vol, cmap=\"bone\", opacity=\"sigmoid\")\n",
    "p.camera_position = cpos\n",
    "p.show()"
   ]
  },
  {
   "cell_type": "markdown",
   "metadata": {},
   "source": [
    "You can also use a custom opacity mapping\n"
   ]
  },
  {
   "cell_type": "code",
   "execution_count": null,
   "metadata": {},
   "outputs": [],
   "source": [
    "opacity = [0, 0, 0, 0.1, 0.3, 0.6, 1]\n",
    "\n",
    "p = pv.Plotter()\n",
    "p.add_volume(vol, cmap=\"viridis\", opacity=opacity)\n",
    "p.camera_position = cpos\n",
    "p.show()"
   ]
  },
  {
   "cell_type": "markdown",
   "metadata": {},
   "source": [
    "We can also use a shading technique when volume rendering with the\n",
    "`shade` option\n"
   ]
  },
  {
   "cell_type": "code",
   "execution_count": null,
   "metadata": {},
   "outputs": [],
   "source": [
    "p = pv.Plotter(shape=(1,2))\n",
    "p.add_volume(vol, cmap=\"viridis\", opacity=opacity, shade=False)\n",
    "p.add_text(\"No shading\")\n",
    "p.subplot(0,1)\n",
    "p.add_volume(vol, cmap=\"viridis\", opacity=opacity, shade=True)\n",
    "p.add_text(\"Shading\")\n",
    "p.link_views()\n",
    "p.camera_position = cpos\n",
    "p.show()"
   ]
  },
  {
   "cell_type": "markdown",
   "metadata": {},
   "source": [
    "Cool Volume Examples\n",
    "====================\n",
    "\n",
    "Here are a few more cool volume rendering examples\n"
   ]
  },
  {
   "cell_type": "code",
   "execution_count": null,
   "metadata": {},
   "outputs": [],
   "source": [
    "head = examples.download_head()\n",
    "\n",
    "p = pv.Plotter()\n",
    "p.add_volume(head, cmap=\"cool\", opacity=\"sigmoid_6\")\n",
    "p.camera_position = [(-228.0, -418.0, -158.0), (94.0, 122.0, 82.0), (-0.2, -0.3, 0.9)]\n",
    "p.show()"
   ]
  },
  {
   "cell_type": "code",
   "execution_count": null,
   "metadata": {},
   "outputs": [],
   "source": [
    "bolt_nut = examples.download_bolt_nut()\n",
    "\n",
    "p = pv.Plotter()\n",
    "p.add_volume(bolt_nut, cmap=\"coolwarm\", opacity=\"sigmoid_5\")\n",
    "p.show()"
   ]
  },
  {
   "cell_type": "code",
   "execution_count": null,
   "metadata": {},
   "outputs": [],
   "source": [
    "frog = examples.download_frog()\n",
    "\n",
    "p = pv.Plotter()\n",
    "p.add_volume(frog, cmap=\"viridis\", opacity=\"sigmoid_6\")\n",
    "p.camera_position = [(929., 1067., -278.9),\n",
    "                     (249.5, 234.5, 101.25),\n",
    "                     (-0.2048, -0.2632, -0.9427)]\n",
    "p.show()"
   ]
  },
  {
   "cell_type": "markdown",
   "metadata": {},
   "source": [
    "Extracting a VOI\n",
    "================\n",
    "\n",
    "Use the `pyvista.UniformGridFilters.extract_subset`{.interpreted-text\n",
    "role=\"func\"} filter to extract a volume of interest/subset volume to\n",
    "volume render. This is ideal when dealing with particularly large\n",
    "volumes and you want to volume render only a specific region.\n"
   ]
  },
  {
   "cell_type": "code",
   "execution_count": null,
   "metadata": {},
   "outputs": [],
   "source": [
    "# Load a particularly large volume\n",
    "large_vol = examples.download_damavand_volcano()\n",
    "large_vol"
   ]
  },
  {
   "cell_type": "code",
   "execution_count": null,
   "metadata": {},
   "outputs": [],
   "source": [
    "opacity = [0, 0.75, 0, 0.75, 1.0]\n",
    "clim = [0, 100]\n",
    "\n",
    "p = pv.Plotter()\n",
    "p.add_volume(large_vol, cmap=\"magma\", clim=clim,\n",
    "             opacity=opacity, opacity_unit_distance=6000,)\n",
    "p.show()"
   ]
  },
  {
   "cell_type": "markdown",
   "metadata": {},
   "source": [
    "Woah, that\\'s a big volume! We probably don\\'t want to volume render the\n",
    "whole thing. So let\\'s extract a region of interest under the volcano.\n",
    "\n",
    "The region we will extract will be between nodes 175 and 200 on the\n",
    "x-axis, between nodes 105 and 132 on the y-axis, and between nodes 98\n",
    "and 170 on the z-axis.\n"
   ]
  },
  {
   "cell_type": "code",
   "execution_count": null,
   "metadata": {},
   "outputs": [],
   "source": [
    "voi = large_vol.extract_subset([175, 200, 105, 132, 98, 170])\n",
    "\n",
    "p = pv.Plotter()\n",
    "p.add_mesh(large_vol.outline(), color=\"k\")\n",
    "p.add_mesh(voi, cmap=\"magma\")\n",
    "p.show()"
   ]
  },
  {
   "cell_type": "markdown",
   "metadata": {},
   "source": [
    "Ah, much better. Let\\'s now volume render that region of interest!\n"
   ]
  },
  {
   "cell_type": "code",
   "execution_count": null,
   "metadata": {},
   "outputs": [],
   "source": [
    "p = pv.Plotter()\n",
    "p.add_volume(voi, cmap=\"magma\", clim=clim, opacity=opacity,\n",
    "             opacity_unit_distance=2000)\n",
    "p.camera_position = [(531554.5542909054, 3944331.800171338, 26563.04809259223),\n",
    " (599088.1433822059, 3982089.287834022, -11965.14728669936),\n",
    " (0.3738545892415734, 0.244312810377319, 0.8947312427698892)]\n",
    "p.show()"
   ]
  }
 ],
 "metadata": {
  "kernelspec": {
   "display_name": "Python 3",
   "language": "python",
   "name": "python3"
  },
  "language_info": {
   "codemirror_mode": {
    "name": "ipython",
    "version": 3
   },
   "file_extension": ".py",
   "mimetype": "text/x-python",
   "name": "python",
   "nbconvert_exporter": "python",
   "pygments_lexer": "ipython3",
   "version": "3.5.2"
  },
  "toc": {
   "base_numbering": 1,
   "nav_menu": {},
   "number_sections": true,
   "sideBar": false,
   "skip_h1_title": false,
   "title_cell": "Table of Contents",
   "title_sidebar": "Contents",
   "toc_cell": false,
   "toc_position": {},
   "toc_section_display": true,
   "toc_window_display": false
  }
 },
 "nbformat": 4,
 "nbformat_minor": 1
}
