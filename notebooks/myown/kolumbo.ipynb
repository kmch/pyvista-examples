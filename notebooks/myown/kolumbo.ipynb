{
 "cells": [
  {
   "cell_type": "markdown",
   "metadata": {},
   "source": [
    "# Bathymetry"
   ]
  },
  {
   "cell_type": "code",
   "execution_count": null,
   "metadata": {},
   "outputs": [],
   "source": [
    "fname = '../data/bt_x8000_18000_y4000_14000_shape201x201.mmp'\n",
    "nx, ny = (201,201)\n",
    "bt = np.memmap(fname, dtype=np.float32, shape=(nx,ny))"
   ]
  },
  {
   "cell_type": "code",
   "execution_count": null,
   "metadata": {},
   "outputs": [],
   "source": [
    "dx, dy, dz = (50, 50, 50)\n",
    "x1, x2, y1, y2 = 8e3, 18e3, 4e3, 14e3\n",
    "x = np.arange(x1, x2+dx, dx)\n",
    "y = np.arange(y1, y2+dx, dy)\n",
    "xx, yy = np.meshgrid(x, y)"
   ]
  },
  {
   "cell_type": "code",
   "execution_count": null,
   "metadata": {},
   "outputs": [],
   "source": [
    "grid = pv.StructuredGrid(xx, yy, -bt)\n",
    "# grid.plot()\n",
    "p = pv.Plotter(off_screen=True)\n",
    "# p.add_axes_at_origin()\n",
    "scalars = grid.points[:,2]\n",
    "p.add_mesh(grid, scalars=scalars)\n",
    "p.add_bounding_box()\n",
    "cpos = grid.plot(\n",
    "                 # notebook=1, # True for interactivity,\n",
    "                 # show_bounds=1,\n",
    "                 # opacity='sigmoid', # 'sigmoid_r'\n",
    "                ) "
   ]
  },
  {
   "cell_type": "markdown",
   "metadata": {},
   "source": [
    "# Vp model"
   ]
  },
  {
   "cell_type": "code",
   "execution_count": null,
   "metadata": {},
   "outputs": [],
   "source": [
    "fname = '../data/p14-CP00160-Vp_x8000_18000_y4000_14000_z0_4000_shape201x201x81.mmp'\n",
    "nx, ny, nz = (201,201,81)\n",
    "vp = np.memmap(fname, dtype=np.float32, shape=(nx,ny,nz))\n",
    "# vp1d = np.mean(vp, axis=(0,1))\n",
    "# vp = vp - vp1d"
   ]
  },
  {
   "cell_type": "code",
   "execution_count": null,
   "metadata": {},
   "outputs": [],
   "source": [
    "dx, dy, dz = (50, 50, 50)\n",
    "x1, x2, y1, y2, z1, z2 = 8e3, 18e3, 4e3, 14e3, 0, 4e3"
   ]
  },
  {
   "cell_type": "code",
   "execution_count": null,
   "metadata": {},
   "outputs": [],
   "source": [
    "# p = pv.Plotter(off_screen=True)\n",
    "# # p.add_axes_at_origin()\n",
    "# scalars = a.points[:,:,:]\n",
    "# p.add_mesh(a, scalars=scalars)"
   ]
  },
  {
   "cell_type": "code",
   "execution_count": null,
   "metadata": {},
   "outputs": [],
   "source": [
    "# a.plot(\n",
    "#     # opacity='sigmoid_r',\n",
    "#     # opacity=.5,\n",
    "# )"
   ]
  },
  {
   "cell_type": "code",
   "execution_count": null,
   "metadata": {},
   "outputs": [],
   "source": [
    "# help(a.threshold)\n",
    "# %%time\n",
    "# bodies = a.threshold(0).split_bodies()"
   ]
  },
  {
   "cell_type": "code",
   "execution_count": null,
   "metadata": {},
   "outputs": [],
   "source": [
    "bodies.plot(opacity=.4)"
   ]
  },
  {
   "cell_type": "markdown",
   "metadata": {},
   "source": [
    "# Vp anomaly "
   ]
  },
  {
   "cell_type": "code",
   "execution_count": null,
   "metadata": {},
   "outputs": [],
   "source": [
    "import numpy as np\n",
    "import pyvista as pv\n",
    "fname = 'data/p14-CP00080-dVp_x8000_18000_y4000_14000_z0_4000_shape201x201x81.mmp'\n",
    "nx, ny, nz = (201,201,81)\n",
    "vp = np.memmap(fname, dtype=np.float32, shape=(nx,ny,nz))\n",
    "# vp = vp[..., 55:]\n",
    "clip = 0 # m/s\n",
    "vp[vp > clip] = 0\n",
    "dims = (nx,ny,nz)\n",
    "spacing = (50,50,50)\n",
    "origin = (8e3,4e3,0)\n",
    "a = pv.UniformGrid()\n",
    "# a = pv.UniformGrid(dims, spacing, origin)\n",
    "a.dimensions = vp.shape\n",
    "vp[...,:] = vp[...,::-1] # flip z axis\n",
    "a.point_arrays[\"values\"] = vp.flatten(order=\"F\")\n",
    "# a.plot(cmap='fire_r')\n",
    " \n",
    "# p.show()"
   ]
  },
  {
   "cell_type": "code",
   "execution_count": null,
   "metadata": {},
   "outputs": [],
   "source": [
    "# clipped = a.clip('z', origin=(0,0,3e3))\n",
    "bounds = [1e4,1.2e4 ,8e3,1e4, 1e3,2e3]\n",
    "clipped = a.clip_box(bounds)"
   ]
  },
  {
   "cell_type": "code",
   "execution_count": null,
   "metadata": {},
   "outputs": [],
   "source": [
    "iso1 = a.contour([-1e3])\n",
    "p = pv.Plotter()\n",
    "# p.add_mesh(a)\n",
    "# p.add_mesh(a, style='wireframe') #cmap='fire_r') #, opacity='linear_r')\n",
    "p.add_mesh(clipped) #, opacity='linear_r')\n",
    "# p.add_mesh(iso1, color='white')\n",
    "# p.add_axes()\n",
    "p.show()"
   ]
  },
  {
   "cell_type": "markdown",
   "metadata": {},
   "source": [
    "# ..."
   ]
  }
 ],
 "metadata": {
  "kernelspec": {
   "display_name": "Python 3",
   "language": "python",
   "name": "python3"
  },
  "language_info": {
   "codemirror_mode": {
    "name": "ipython",
    "version": 3
   },
   "file_extension": ".py",
   "mimetype": "text/x-python",
   "name": "python",
   "nbconvert_exporter": "python",
   "pygments_lexer": "ipython3",
   "version": "3.5.2"
  },
  "latex_envs": {
   "LaTeX_envs_menu_present": true,
   "autoclose": false,
   "autocomplete": true,
   "bibliofile": "biblio.bib",
   "cite_by": "apalike",
   "current_citInitial": 1,
   "eqLabelWithNumbers": true,
   "eqNumInitial": 1,
   "hotkeys": {
    "equation": "Ctrl-E",
    "itemize": "Ctrl-I"
   },
   "labels_anchors": false,
   "latex_user_defs": false,
   "report_style_numbering": false,
   "user_envs_cfg": false
  },
  "toc": {
   "base_numbering": 1,
   "nav_menu": {},
   "number_sections": false,
   "sideBar": false,
   "skip_h1_title": false,
   "title_cell": "Table of Contents",
   "title_sidebar": "Contents",
   "toc_cell": false,
   "toc_position": {},
   "toc_section_display": true,
   "toc_window_display": false
  }
 },
 "nbformat": 4,
 "nbformat_minor": 2
}
